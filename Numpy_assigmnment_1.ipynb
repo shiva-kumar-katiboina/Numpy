{
 "cells": [
  {
   "cell_type": "markdown",
   "id": "59bb846d",
   "metadata": {},
   "source": [
    "### Question_1:\n",
    "    Write a program to create a 5 dimentional array with all zeros and ones."
   ]
  },
  {
   "cell_type": "code",
   "execution_count": 1,
   "id": "6f6a7bf7",
   "metadata": {},
   "outputs": [],
   "source": [
    "import numpy as np"
   ]
  },
  {
   "cell_type": "code",
   "execution_count": 10,
   "id": "690e8173",
   "metadata": {},
   "outputs": [
    {
     "data": {
      "text/plain": [
       "array([[[[[0., 0., 0., 0.],\n",
       "          [0., 0., 0., 0.],\n",
       "          [0., 0., 0., 0.],\n",
       "          [0., 0., 0., 0.],\n",
       "          [0., 0., 0., 0.]]]]])"
      ]
     },
     "execution_count": 10,
     "metadata": {},
     "output_type": "execute_result"
    }
   ],
   "source": [
    "np.zeros((1,1,1,5,4))"
   ]
  },
  {
   "cell_type": "code",
   "execution_count": 11,
   "id": "166bc7eb",
   "metadata": {},
   "outputs": [
    {
     "data": {
      "text/plain": [
       "array([[[[[1., 1., 1., 1.],\n",
       "          [1., 1., 1., 1.],\n",
       "          [1., 1., 1., 1.],\n",
       "          [1., 1., 1., 1.],\n",
       "          [1., 1., 1., 1.]]]]])"
      ]
     },
     "execution_count": 11,
     "metadata": {},
     "output_type": "execute_result"
    }
   ],
   "source": [
    "np.ones((1,1,1,5,4))"
   ]
  },
  {
   "cell_type": "markdown",
   "id": "6f490c13",
   "metadata": {},
   "source": [
    "### Question_2:\n",
    "    Write a program to create an array of 10 zeros, 10 ones, 10 fives in row 1,2 and 3 which create a new array of shape       (3,10)"
   ]
  },
  {
   "cell_type": "code",
   "execution_count": 75,
   "id": "671c4e33",
   "metadata": {},
   "outputs": [
    {
     "name": "stdout",
     "output_type": "stream",
     "text": [
      "shape is :  (3, 10)\n"
     ]
    },
    {
     "data": {
      "text/plain": [
       "(array([0, 0, 0, 0, 0, 0, 0, 0, 0, 0]),\n",
       " array([1, 1, 1, 1, 1, 1, 1, 1, 1, 1]),\n",
       " array([5, 5, 5, 5, 5, 5, 5, 5, 5, 5]))"
      ]
     },
     "execution_count": 75,
     "metadata": {},
     "output_type": "execute_result"
    }
   ],
   "source": [
    "a = np.zeros(10,dtype = int),np.ones(10,dtype = int),np.full(10,5)\n",
    "print(\"shape is : \", np.shape(a))\n",
    "a"
   ]
  },
  {
   "cell_type": "code",
   "execution_count": 77,
   "id": "c1fcd4bc",
   "metadata": {},
   "outputs": [
    {
     "data": {
      "text/plain": [
       "array([[0, 0, 0, 0, 0, 0, 0, 0, 0, 0],\n",
       "       [1, 1, 1, 1, 1, 1, 1, 1, 1, 1],\n",
       "       [5, 5, 5, 5, 5, 5, 5, 5, 5, 5]])"
      ]
     },
     "execution_count": 77,
     "metadata": {},
     "output_type": "execute_result"
    }
   ],
   "source": [
    "zeros = np.zeros(10,dtype = int)\n",
    "ones = np.ones(10,dtype = int)\n",
    "fives = np.full(10,5)\n",
    "np.vstack((zeros,ones,fives))"
   ]
  },
  {
   "cell_type": "markdown",
   "id": "8f326eee",
   "metadata": {},
   "source": [
    "### Question_3:\n",
    "    Write a program to create a 3x4 matrix filled with values from 10 to 21"
   ]
  },
  {
   "cell_type": "code",
   "execution_count": 22,
   "id": "0404574d",
   "metadata": {},
   "outputs": [
    {
     "data": {
      "text/plain": [
       "array([[10, 11, 12, 13],\n",
       "       [14, 15, 16, 17],\n",
       "       [18, 19, 20, 21]])"
      ]
     },
     "execution_count": 22,
     "metadata": {},
     "output_type": "execute_result"
    }
   ],
   "source": [
    "np.arange(10,22).reshape(3,4)"
   ]
  },
  {
   "cell_type": "markdown",
   "id": "64d59290",
   "metadata": {},
   "source": [
    "### Question_4:\n",
    "    Write a program to create a 10x10 zero matrix with elements on the main diagonal equal to 0,1,2,3,4,5,6,7,8,9"
   ]
  },
  {
   "cell_type": "code",
   "execution_count": 32,
   "id": "14954027",
   "metadata": {},
   "outputs": [
    {
     "name": "stdout",
     "output_type": "stream",
     "text": [
      "(10, 10)\n"
     ]
    },
    {
     "data": {
      "text/plain": [
       "array([[0, 0, 0, 0, 0, 0, 0, 0, 0, 0],\n",
       "       [0, 1, 0, 0, 0, 0, 0, 0, 0, 0],\n",
       "       [0, 0, 2, 0, 0, 0, 0, 0, 0, 0],\n",
       "       [0, 0, 0, 3, 0, 0, 0, 0, 0, 0],\n",
       "       [0, 0, 0, 0, 4, 0, 0, 0, 0, 0],\n",
       "       [0, 0, 0, 0, 0, 5, 0, 0, 0, 0],\n",
       "       [0, 0, 0, 0, 0, 0, 6, 0, 0, 0],\n",
       "       [0, 0, 0, 0, 0, 0, 0, 7, 0, 0],\n",
       "       [0, 0, 0, 0, 0, 0, 0, 0, 8, 0],\n",
       "       [0, 0, 0, 0, 0, 0, 0, 0, 0, 9]])"
      ]
     },
     "execution_count": 32,
     "metadata": {},
     "output_type": "execute_result"
    }
   ],
   "source": [
    "a = np.diag(np.arange(0,10))\n",
    "print(np.shape(a))\n",
    "a"
   ]
  },
  {
   "cell_type": "markdown",
   "id": "76478949",
   "metadata": {},
   "source": [
    "### Question_5:\n",
    "       Write a program to create 4x4 array. Create an array from below array br swapping first and last, second and third         columns."
   ]
  },
  {
   "cell_type": "code",
   "execution_count": 136,
   "id": "456e70a1",
   "metadata": {},
   "outputs": [
    {
     "name": "stdout",
     "output_type": "stream",
     "text": [
      "[[ 1  2  3  4]\n",
      " [ 5  6  7  8]\n",
      " [ 9 10 11 12]\n",
      " [13 14 15 16]]\n"
     ]
    },
    {
     "data": {
      "text/plain": [
       "array([[ 4,  3,  2,  1],\n",
       "       [ 8,  7,  6,  5],\n",
       "       [12, 11, 10,  9],\n",
       "       [16, 15, 14, 13]])"
      ]
     },
     "execution_count": 136,
     "metadata": {},
     "output_type": "execute_result"
    }
   ],
   "source": [
    "a = np.array([np.arange(1,17)]).reshape(4,4)\n",
    "print(a)\n",
    "a[:,(3,2,1,0)]"
   ]
  },
  {
   "cell_type": "markdown",
   "id": "5ad44a5d",
   "metadata": {},
   "source": [
    "### Question_6:\n",
    "    Write a program to reverse an array (the first element becomes the last).\n",
    "    Given array:\n",
    "        [12,13,14,15,16,17,18,19,20,21,22,23,24,25,26,27]"
   ]
  },
  {
   "cell_type": "code",
   "execution_count": 141,
   "id": "06922323",
   "metadata": {},
   "outputs": [
    {
     "data": {
      "text/plain": [
       "array([27, 26, 25, 24, 23, 22, 21, 20, 19, 18, 17, 16, 15, 14, 13, 12])"
      ]
     },
     "execution_count": 141,
     "metadata": {},
     "output_type": "execute_result"
    }
   ],
   "source": [
    "a = np.array([12,13,14,15,16,17,18,19,20,21,22,23,24,25,26,27])\n",
    "a[::-1]"
   ]
  },
  {
   "cell_type": "markdown",
   "id": "037ad7c5",
   "metadata": {},
   "source": [
    "### Question_7:\n",
    "    Write a program to access all the elements greater than 30 and less than 80 and multiples of 5 from an array of           shape 10,10. Elements range from 1 to 100"
   ]
  },
  {
   "cell_type": "code",
   "execution_count": 153,
   "id": "58cf8097",
   "metadata": {},
   "outputs": [
    {
     "data": {
      "text/plain": [
       "array([35, 40, 45, 50, 55, 60, 65, 70, 75])"
      ]
     },
     "execution_count": 153,
     "metadata": {},
     "output_type": "execute_result"
    }
   ],
   "source": [
    "a = np.arange(1,101).reshape(10,10)\n",
    "a[(a>30) & (a<80) & (a % 5 == 0)]"
   ]
  },
  {
   "cell_type": "markdown",
   "id": "4698f8c3",
   "metadata": {},
   "source": [
    "### Question_8:\n",
    "    Write a program to create a 2D array with 1 on the border and 0 inside."
   ]
  },
  {
   "cell_type": "code",
   "execution_count": 20,
   "id": "81162ed7",
   "metadata": {},
   "outputs": [
    {
     "data": {
      "text/plain": [
       "array([[1, 1, 1, 1, 1, 1, 1, 1, 1, 1],\n",
       "       [1, 0, 0, 0, 0, 0, 0, 0, 0, 1],\n",
       "       [1, 0, 0, 0, 0, 0, 0, 0, 0, 1],\n",
       "       [1, 0, 0, 0, 0, 0, 0, 0, 0, 1],\n",
       "       [1, 0, 0, 0, 0, 0, 0, 0, 0, 1],\n",
       "       [1, 0, 0, 0, 0, 0, 0, 0, 0, 1],\n",
       "       [1, 0, 0, 0, 0, 0, 0, 0, 0, 1],\n",
       "       [1, 0, 0, 0, 0, 0, 0, 0, 0, 1],\n",
       "       [1, 0, 0, 0, 0, 0, 0, 0, 0, 1],\n",
       "       [1, 1, 1, 1, 1, 1, 1, 1, 1, 1]])"
      ]
     },
     "execution_count": 20,
     "metadata": {},
     "output_type": "execute_result"
    }
   ],
   "source": [
    "a = np.ones((10,10), dtype = int)\n",
    "a[1:9,1:9] = 0\n",
    "a"
   ]
  },
  {
   "cell_type": "markdown",
   "id": "0d4f930e",
   "metadata": {},
   "source": [
    "### Question_9:\n",
    "    Write a program to create a chekerboard pattern. Don't use default array function."
   ]
  },
  {
   "cell_type": "code",
   "execution_count": 72,
   "id": "18a6e6a2",
   "metadata": {},
   "outputs": [
    {
     "data": {
      "text/plain": [
       "array([[0, 1, 0, 1, 0, 1, 0, 1, 0, 1],\n",
       "       [1, 0, 1, 0, 1, 0, 1, 0, 1, 0],\n",
       "       [0, 1, 0, 1, 0, 1, 0, 1, 0, 1],\n",
       "       [1, 0, 1, 0, 1, 0, 1, 0, 1, 0],\n",
       "       [0, 1, 0, 1, 0, 1, 0, 1, 0, 1],\n",
       "       [1, 0, 1, 0, 1, 0, 1, 0, 1, 0],\n",
       "       [0, 1, 0, 1, 0, 1, 0, 1, 0, 1],\n",
       "       [1, 0, 1, 0, 1, 0, 1, 0, 1, 0],\n",
       "       [0, 1, 0, 1, 0, 1, 0, 1, 0, 1],\n",
       "       [1, 0, 1, 0, 1, 0, 1, 0, 1, 0],\n",
       "       [0, 1, 0, 1, 0, 1, 0, 1, 0, 1],\n",
       "       [1, 0, 1, 0, 1, 0, 1, 0, 1, 0],\n",
       "       [0, 1, 0, 1, 0, 1, 0, 1, 0, 1],\n",
       "       [1, 0, 1, 0, 1, 0, 1, 0, 1, 0],\n",
       "       [0, 1, 0, 1, 0, 1, 0, 1, 0, 1],\n",
       "       [1, 0, 1, 0, 1, 0, 1, 0, 1, 0],\n",
       "       [0, 1, 0, 1, 0, 1, 0, 1, 0, 1],\n",
       "       [1, 0, 1, 0, 1, 0, 1, 0, 1, 0],\n",
       "       [0, 1, 0, 1, 0, 1, 0, 1, 0, 1],\n",
       "       [1, 0, 1, 0, 1, 0, 1, 0, 1, 0]])"
      ]
     },
     "execution_count": 72,
     "metadata": {},
     "output_type": "execute_result"
    }
   ],
   "source": [
    "a = np.ones((20,10),dtype =int)\n",
    "for i in range(len(a)):\n",
    "    if i % 2 == 0:\n",
    "        (a[i])[::2] = 0\n",
    "    else:\n",
    "        (a[i])[1::2] = 0\n",
    "a"
   ]
  },
  {
   "cell_type": "markdown",
   "id": "0627016e",
   "metadata": {},
   "source": [
    "### Question_10:\n",
    "    Write a program to find common values between two arrays"
   ]
  },
  {
   "cell_type": "code",
   "execution_count": 154,
   "id": "d2b69456",
   "metadata": {},
   "outputs": [
    {
     "data": {
      "text/plain": [
       "array([10, 30, 50])"
      ]
     },
     "execution_count": 154,
     "metadata": {},
     "output_type": "execute_result"
    }
   ],
   "source": [
    "a = np.array([10,20,30,40,50])\n",
    "b = np.array([10,30,50,70,90])\n",
    "np.intersect1d(a,b)"
   ]
  },
  {
   "cell_type": "markdown",
   "id": "54ab036f",
   "metadata": {},
   "source": [
    "### Question_11:\n",
    "    Write a program to create an 2d array then reshape into 1d array."
   ]
  },
  {
   "cell_type": "code",
   "execution_count": 5,
   "id": "dedcf5d2",
   "metadata": {},
   "outputs": [
    {
     "data": {
      "text/plain": [
       "array([[ 1,  2,  3,  4,  5],\n",
       "       [ 6,  7,  8,  9, 10],\n",
       "       [11, 12, 13, 14, 15],\n",
       "       [16, 17, 18, 19, 20],\n",
       "       [21, 22, 23, 24, 25]])"
      ]
     },
     "execution_count": 5,
     "metadata": {},
     "output_type": "execute_result"
    }
   ],
   "source": [
    "a = np.arange(1,26).reshape(5,5)\n",
    "a"
   ]
  },
  {
   "cell_type": "code",
   "execution_count": 6,
   "id": "97aa53e7",
   "metadata": {},
   "outputs": [
    {
     "data": {
      "text/plain": [
       "array([ 1,  2,  3,  4,  5,  6,  7,  8,  9, 10, 11, 12, 13, 14, 15, 16, 17,\n",
       "       18, 19, 20, 21, 22, 23, 24, 25])"
      ]
     },
     "execution_count": 6,
     "metadata": {},
     "output_type": "execute_result"
    }
   ],
   "source": [
    "# method - 1\n",
    "a.reshape(25)"
   ]
  },
  {
   "cell_type": "code",
   "execution_count": 7,
   "id": "fdc6052c",
   "metadata": {},
   "outputs": [
    {
     "data": {
      "text/plain": [
       "array([ 1,  2,  3,  4,  5,  6,  7,  8,  9, 10, 11, 12, 13, 14, 15, 16, 17,\n",
       "       18, 19, 20, 21, 22, 23, 24, 25])"
      ]
     },
     "execution_count": 7,
     "metadata": {},
     "output_type": "execute_result"
    }
   ],
   "source": [
    "# method - 2\n",
    "a.ravel()"
   ]
  },
  {
   "cell_type": "code",
   "execution_count": 8,
   "id": "72be3ca2",
   "metadata": {},
   "outputs": [
    {
     "data": {
      "text/plain": [
       "array([ 1,  2,  3,  4,  5,  6,  7,  8,  9, 10, 11, 12, 13, 14, 15, 16, 17,\n",
       "       18, 19, 20, 21, 22, 23, 24, 25])"
      ]
     },
     "execution_count": 8,
     "metadata": {},
     "output_type": "execute_result"
    }
   ],
   "source": [
    "# method - 3\n",
    "a.flatten()"
   ]
  },
  {
   "cell_type": "markdown",
   "id": "954a5f0b",
   "metadata": {},
   "source": [
    "### Question_12:\n",
    "    Write a user defined function for creating a 1d or 2d without using array functions"
   ]
  },
  {
   "cell_type": "code",
   "execution_count": 4,
   "id": "116b37e0",
   "metadata": {},
   "outputs": [],
   "source": [
    "def array():\n",
    "    array = int(input(\"Enter 1 for 1-D array \\nEnter 2 for 2-D array :  \"))\n",
    "    if array == 2:\n",
    "        function = (input(\"Enter '1' for ones(),\\nEnter '0' for zeros,\\nEnter 'any number' for full() ::   \"))\n",
    "        function = \" \"+function\n",
    "        a = int(input(\"Enter number of rows :  \"))\n",
    "        b = int(input(\"enter number of columns :  \"))\n",
    "        if b == 0 :\n",
    "            print(a*function)\n",
    "        else:\n",
    "            print(\"array\")\n",
    "            for i in range(a):\n",
    "                print(b*function)               \n",
    "                    \n",
    "    elif array == 1:\n",
    "        function = (input(\"Enter '1' for ones(),\\nEnter '0' for zeros,\\nEnter 'any number' for full() ::   \"))\n",
    "        function = \" \"+function\n",
    "        a = int(input(\"Enter the number of elements :  \"))\n",
    "        print(\"array\")\n",
    "        return(a * function)\n",
    "           \n",
    "    else:\n",
    "        print(\"Please enter a valid input...\")"
   ]
  },
  {
   "cell_type": "code",
   "execution_count": 4,
   "id": "b46ae05a",
   "metadata": {},
   "outputs": [
    {
     "name": "stdout",
     "output_type": "stream",
     "text": [
      "Enter 1 for 1-D array \n",
      "Enter 2 for 2-D array :  2\n",
      "Enter '1' for ones(),\n",
      "Enter '0' for zeros,\n",
      "Enter 'any number' for full() ::   10\n",
      "Enter number of rows :  5\n",
      "enter number of columns :  5\n",
      "array\n",
      " 10 10 10 10 10\n",
      " 10 10 10 10 10\n",
      " 10 10 10 10 10\n",
      " 10 10 10 10 10\n",
      " 10 10 10 10 10\n"
     ]
    }
   ],
   "source": [
    "array()"
   ]
  },
  {
   "cell_type": "code",
   "execution_count": 5,
   "id": "a27e48a9",
   "metadata": {},
   "outputs": [
    {
     "name": "stdout",
     "output_type": "stream",
     "text": [
      "Enter 1 for 1-D array \n",
      "Enter 2 for 2-D array :  1\n",
      "Enter '1' for ones(),\n",
      "Enter '0' for zeros,\n",
      "Enter 'any number' for full() ::   0\n",
      "Enter the number of elements :  10\n",
      "array\n"
     ]
    },
    {
     "data": {
      "text/plain": [
       "' 0 0 0 0 0 0 0 0 0 0'"
      ]
     },
     "execution_count": 5,
     "metadata": {},
     "output_type": "execute_result"
    }
   ],
   "source": [
    "array()"
   ]
  },
  {
   "cell_type": "code",
   "execution_count": null,
   "id": "3589d231",
   "metadata": {},
   "outputs": [],
   "source": []
  }
 ],
 "metadata": {
  "kernelspec": {
   "display_name": "Python 3 (ipykernel)",
   "language": "python",
   "name": "python3"
  },
  "language_info": {
   "codemirror_mode": {
    "name": "ipython",
    "version": 3
   },
   "file_extension": ".py",
   "mimetype": "text/x-python",
   "name": "python",
   "nbconvert_exporter": "python",
   "pygments_lexer": "ipython3",
   "version": "3.11.4"
  }
 },
 "nbformat": 4,
 "nbformat_minor": 5
}
