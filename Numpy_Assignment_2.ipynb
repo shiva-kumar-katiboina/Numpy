{
 "cells": [
  {
   "cell_type": "code",
   "execution_count": 1,
   "id": "a7cdaef6",
   "metadata": {},
   "outputs": [],
   "source": [
    "import numpy as np"
   ]
  },
  {
   "cell_type": "markdown",
   "id": "b7bb9190",
   "metadata": {},
   "source": [
    "# tipsf"
   ]
  },
  {
   "cell_type": "code",
   "execution_count": 153,
   "id": "3dfc8239",
   "metadata": {},
   "outputs": [],
   "source": [
    "a = np.genfromtxt(r\"C:\\Users\\91991\\OneDrive\\Desktop\\python 243\\Python 243 tasks\\Numpy assignments\\tipsf.csv\",delimiter = \",\",skip_header = 1)"
   ]
  },
  {
   "cell_type": "code",
   "execution_count": 86,
   "id": "63abeaf0",
   "metadata": {},
   "outputs": [
    {
     "data": {
      "text/plain": [
       "array([[  0.  ,  16.99,   1.01, ...,   1.  ,   0.  ,   2.  ],\n",
       "       [  1.  ,  10.34,   1.66, ...,   1.  ,   0.  ,   3.  ],\n",
       "       [  2.  ,  21.01,   3.5 , ...,   1.  ,   0.  ,   3.  ],\n",
       "       ...,\n",
       "       [241.  ,  22.67,   2.  , ...,   0.  ,   0.  ,   2.  ],\n",
       "       [242.  ,  17.82,   1.75, ...,   0.  ,   0.  ,   2.  ],\n",
       "       [243.  ,  18.78,   3.  , ...,   2.  ,   0.  ,   2.  ]])"
      ]
     },
     "execution_count": 86,
     "metadata": {},
     "output_type": "execute_result"
    }
   ],
   "source": [
    "a"
   ]
  },
  {
   "cell_type": "markdown",
   "id": "dd9a4beb",
   "metadata": {},
   "source": [
    "### Question_1:\n",
    "    What is the total bill value ?"
   ]
  },
  {
   "cell_type": "code",
   "execution_count": 87,
   "id": "7af1a8b7",
   "metadata": {},
   "outputs": [
    {
     "name": "stdout",
     "output_type": "stream",
     "text": [
      "The total bill value is :  4827.770000000001\n"
     ]
    }
   ],
   "source": [
    "print(f\"The total bill value is :  {sum(a[::,1])}\")"
   ]
  },
  {
   "cell_type": "code",
   "execution_count": 88,
   "id": "4e2b5f8a",
   "metadata": {},
   "outputs": [
    {
     "name": "stdout",
     "output_type": "stream",
     "text": [
      "The total bill value is :  4827.77\n"
     ]
    }
   ],
   "source": [
    "print(f\"The total bill value is :  {np.sum(a[::,1])}\")"
   ]
  },
  {
   "cell_type": "markdown",
   "id": "10dd4227",
   "metadata": {},
   "source": [
    "### Question_2:\n",
    "    What is the total tip value ?"
   ]
  },
  {
   "cell_type": "code",
   "execution_count": 89,
   "id": "d45988f8",
   "metadata": {},
   "outputs": [
    {
     "name": "stdout",
     "output_type": "stream",
     "text": [
      "The total tip value is :  731.58\n"
     ]
    }
   ],
   "source": [
    "print(f\"The total tip value is :  {sum(a[::,2])}\")"
   ]
  },
  {
   "cell_type": "code",
   "execution_count": 90,
   "id": "7f9fb67f",
   "metadata": {},
   "outputs": [
    {
     "name": "stdout",
     "output_type": "stream",
     "text": [
      "The total tip value is :  731.5799999999999\n"
     ]
    }
   ],
   "source": [
    "print(f\"The total tip value is :  {np.sum(a[::,2])}\")"
   ]
  },
  {
   "cell_type": "markdown",
   "id": "76c7f79a",
   "metadata": {},
   "source": [
    "### Qeustion_3:\n",
    "    Count how many sundays, saturdays, thursdays and fridays are there ?"
   ]
  },
  {
   "cell_type": "code",
   "execution_count": 135,
   "id": "68b1514b",
   "metadata": {},
   "outputs": [
    {
     "data": {
      "text/plain": [
       "(array([0., 1., 2., 3.]), array([87, 76, 62, 19], dtype=int64))"
      ]
     },
     "execution_count": 135,
     "metadata": {},
     "output_type": "execute_result"
    }
   ],
   "source": [
    "np.unique(a[:,5],return_counts = True) "
   ]
  },
  {
   "cell_type": "raw",
   "id": "bd6adae7",
   "metadata": {},
   "source": [
    "here we assume that ..,\n",
    " - sundays are represented by 0\n",
    " - saturdays are represented by 1\n",
    " - thursdays are represented by 2\n",
    " - fridays are represented by 3"
   ]
  },
  {
   "cell_type": "code",
   "execution_count": 144,
   "id": "030eee4b",
   "metadata": {},
   "outputs": [
    {
     "name": "stdout",
     "output_type": "stream",
     "text": [
      "The number of Sundays(0.0) are 87 \n",
      "The number of Saturdays(1.0) are 76 \n",
      "The number of Thursdays(2.0) are 62 \n",
      "The number of Fridays(3.0) are 19\n"
     ]
    }
   ],
   "source": [
    "a1 = np.unique(a[:,5],return_counts = True)\n",
    "print(f\"\"\"The number of Sundays({a1[0][0]}) are {a1[1][0]} \n",
    "The number of Saturdays({a1[0][1]}) are {a1[1][1]} \n",
    "The number of Thursdays({a1[0][2]}) are {a1[1][2]} \n",
    "The number of Fridays({a1[0][3]}) are {a1[1][3]}\"\"\")"
   ]
  },
  {
   "cell_type": "markdown",
   "id": "1a6bff8c",
   "metadata": {},
   "source": [
    "### Question_4:\n",
    "    How many smokers are there ?"
   ]
  },
  {
   "cell_type": "code",
   "execution_count": 10,
   "id": "429d665c",
   "metadata": {},
   "outputs": [
    {
     "name": "stdout",
     "output_type": "stream",
     "text": [
      "The total number of smokers are :  93.0 \n"
     ]
    }
   ],
   "source": [
    "print(f\"The total number of smokers are :  {np.sum(a[:,4])} \")"
   ]
  },
  {
   "cell_type": "markdown",
   "id": "c8c0b9e4",
   "metadata": {},
   "source": [
    "### Question_5:\n",
    "    What is the average tip given by female and male.?"
   ]
  },
  {
   "cell_type": "code",
   "execution_count": 160,
   "id": "460d9877",
   "metadata": {},
   "outputs": [
    {
     "data": {
      "text/plain": [
       "2.8334482758620685"
      ]
     },
     "execution_count": 160,
     "metadata": {},
     "output_type": "execute_result"
    }
   ],
   "source": [
    "np.mean(a[a[:,3] == 0][:,2])"
   ]
  },
  {
   "cell_type": "code",
   "execution_count": 163,
   "id": "7c993257",
   "metadata": {},
   "outputs": [
    {
     "data": {
      "text/plain": [
       "2.833448275862069"
      ]
     },
     "execution_count": 163,
     "metadata": {},
     "output_type": "execute_result"
    }
   ],
   "source": [
    "a2 = a[a[:,3] == 0][:,2]\n",
    "sum(a2)/len(a2)"
   ]
  },
  {
   "cell_type": "markdown",
   "id": "5a1fd794",
   "metadata": {},
   "source": [
    "### Question_6:\n",
    "    How much amount have been spent by female & male?"
   ]
  },
  {
   "cell_type": "raw",
   "id": "0ae78f92",
   "metadata": {},
   "source": [
    "here we assume that\n",
    "females are represented by 0\n",
    "males are represented by 1"
   ]
  },
  {
   "cell_type": "code",
   "execution_count": 176,
   "id": "cb6e21ad",
   "metadata": {},
   "outputs": [
    {
     "name": "stdout",
     "output_type": "stream",
     "text": [
      "The total amount spent by females are :  1570.9499999999998\n",
      "The total amount spent by males are :  3256.8200000000024\n"
     ]
    }
   ],
   "source": [
    "print(f\"The total amount spent by females are :  {sum(a[a[:,3] == 0][:,1])}\")\n",
    "print(f\"The total amount spent by males are :  {sum(a[a[:,3] == 1][:,1])}\")"
   ]
  },
  {
   "cell_type": "markdown",
   "id": "d9b5d708",
   "metadata": {},
   "source": [
    "### Question_7:\n",
    "    What is the min & max tip given ?"
   ]
  },
  {
   "cell_type": "code",
   "execution_count": 20,
   "id": "92a5832f",
   "metadata": {},
   "outputs": [
    {
     "name": "stdout",
     "output_type": "stream",
     "text": [
      "The max tip given is :  10.0\n",
      "The min tip given is :  1.0\n"
     ]
    }
   ],
   "source": [
    "print(f\"The max tip given is :  {max(a[:,2])}\")\n",
    "print(f\"The min tip given is :  {min(a[:,2])}\")"
   ]
  },
  {
   "cell_type": "markdown",
   "id": "b0391d82",
   "metadata": {},
   "source": [
    "### Question_8:\n",
    "    How many male and females are going for dinner and lunch ?"
   ]
  },
  {
   "cell_type": "raw",
   "id": "81fe4ff7",
   "metadata": {},
   "source": [
    "here we assume that \n",
    "dinner is represented by 0\n",
    "lunch is represented by 1"
   ]
  },
  {
   "cell_type": "code",
   "execution_count": 216,
   "id": "146b7ecf",
   "metadata": {},
   "outputs": [
    {
     "name": "stdout",
     "output_type": "stream",
     "text": [
      "The number of 'Females' going for dinner are :  52\n",
      "The number of 'Females' going for lunch are :  35\n",
      "The number of 'Males' going for dinner are :  124\n",
      "The number of 'Males' going for lunch are :  33\n"
     ]
    }
   ],
   "source": [
    "print(f\"The number of 'Females' going for dinner are :  {np.unique(a[a[:,3] ==0,6],return_counts = True)[1][0]}\")\n",
    "print(f\"The number of 'Females' going for lunch are :  {np.unique(a[a[:,3] ==0,6],return_counts = True)[1][1]}\")\n",
    "print(f\"The number of 'Males' going for dinner are :  {np.unique(a[a[:,3] ==1,6],return_counts = True)[1][0]}\")\n",
    "print(f\"The number of 'Males' going for lunch are :  {np.unique(a[a[:,3] ==1,6],return_counts = True)[1][1]}\")"
   ]
  },
  {
   "cell_type": "markdown",
   "id": "075b40d7",
   "metadata": {},
   "source": [
    "### Question_9:\n",
    "    Find out the Avg size"
   ]
  },
  {
   "cell_type": "code",
   "execution_count": 241,
   "id": "039f8fd4",
   "metadata": {},
   "outputs": [
    {
     "data": {
      "text/plain": [
       "2.569672131147541"
      ]
     },
     "execution_count": 241,
     "metadata": {},
     "output_type": "execute_result"
    }
   ],
   "source": [
    "(sum(a[:,7]))/(len(a[:,7]))"
   ]
  },
  {
   "cell_type": "code",
   "execution_count": 28,
   "id": "850ef0a2",
   "metadata": {},
   "outputs": [
    {
     "data": {
      "text/plain": [
       "2.569672131147541"
      ]
     },
     "execution_count": 28,
     "metadata": {},
     "output_type": "execute_result"
    }
   ],
   "source": [
    "np.mean(a[:,7])"
   ]
  },
  {
   "cell_type": "markdown",
   "id": "eb4e6056",
   "metadata": {},
   "source": [
    "### Questin_10:\n",
    "    How many female smokers are there and how many male smokers are there ?"
   ]
  },
  {
   "cell_type": "code",
   "execution_count": 239,
   "id": "b59adfec",
   "metadata": {},
   "outputs": [
    {
     "name": "stdout",
     "output_type": "stream",
     "text": [
      "The total number of smokers are :  93.0\n",
      "The number of 'Female' smokers are :  33.0\n",
      "The number of 'Male' smokers are :  60.0\n"
     ]
    }
   ],
   "source": [
    "print(f\"The total number of smokers are :  {sum(a[:,4])}\")\n",
    "print(f\"The number of 'Female' smokers are :  {sum(a[a[:,3] ==0,4])}\")\n",
    "print(f\"The number of 'Male' smokers are :  {sum(a[a[:,3]==1,4])}\")"
   ]
  },
  {
   "cell_type": "markdown",
   "id": "39418724",
   "metadata": {},
   "source": [
    "# train_extended"
   ]
  },
  {
   "cell_type": "code",
   "execution_count": 243,
   "id": "0fd4f895",
   "metadata": {},
   "outputs": [],
   "source": [
    "b = np.genfromtxt(r\"C:\\Users\\91991\\OneDrive\\Desktop\\python 243\\Python 243 tasks\\Numpy assignments\\train_extended.csv\",delimiter = \",\",skip_header = 1)"
   ]
  },
  {
   "cell_type": "code",
   "execution_count": 244,
   "id": "3a39c4cb",
   "metadata": {},
   "outputs": [
    {
     "name": "stdout",
     "output_type": "stream",
     "text": [
      "0 - length ,1 - Diameter  , 2 - Height  , 3 - Weight   , 4 - Shucked weight  , 5 - Viscera weight , 6 - Shell weight  , 7 - Age\n"
     ]
    },
    {
     "data": {
      "text/plain": [
       "array([[ 1.575     ,  1.225     ,  0.375     , ...,  6.3219385 ,\n",
       "         9.63883   , 10.        ],\n",
       "       [ 1.2375    ,  1.        ,  0.375     , ...,  3.798833  ,\n",
       "         7.654365  , 19.        ],\n",
       "       [ 1.45      ,  1.1625    ,  0.4125    , ...,  7.01650125,\n",
       "         7.257472  , 11.        ],\n",
       "       ...,\n",
       "       [ 1.125     ,  0.9125    ,  0.2875    , ...,  1.984465  ,\n",
       "         3.118445  ,  7.        ],\n",
       "       [ 1.625     ,  1.275     ,  0.4125    , ...,  7.86698625,\n",
       "        10.489315  , 11.        ],\n",
       "       [ 1.5875    ,  1.25      ,  0.3875    , ...,  7.38504475,\n",
       "         8.788345  , 11.        ]])"
      ]
     },
     "execution_count": 244,
     "metadata": {},
     "output_type": "execute_result"
    }
   ],
   "source": [
    "print(\"0 - length ,1 - Diameter  , 2 - Height  , 3 - Weight   , 4 - Shucked weight  , 5 - Viscera weight , 6 - Shell weight  , 7 - Age\")\n",
    "b"
   ]
  },
  {
   "cell_type": "markdown",
   "id": "8f16caca",
   "metadata": {},
   "source": [
    "### Question_1:\n",
    "    What is the max and min lenght ?"
   ]
  },
  {
   "cell_type": "code",
   "execution_count": 4,
   "id": "833c2c2e",
   "metadata": {},
   "outputs": [
    {
     "name": "stdout",
     "output_type": "stream",
     "text": [
      "The max lenght is :  7.58349125\n",
      "The min lenght is :  0.0\n"
     ]
    }
   ],
   "source": [
    "print(f\"The max lenght is :  {max(b[:,0])}\")\n",
    "print(f\"The min lenght is :  {min(b[:,0])}\")"
   ]
  },
  {
   "cell_type": "markdown",
   "id": "ed193db4",
   "metadata": {},
   "source": [
    "### Question_2:\n",
    "    Find out the difference between max and min length ?"
   ]
  },
  {
   "cell_type": "code",
   "execution_count": 5,
   "id": "c3d3627c",
   "metadata": {},
   "outputs": [
    {
     "data": {
      "text/plain": [
       "7.58349125"
      ]
     },
     "execution_count": 5,
     "metadata": {},
     "output_type": "execute_result"
    }
   ],
   "source": [
    "max(b[:,0]) - min(b[:,0])"
   ]
  },
  {
   "cell_type": "markdown",
   "id": "3f490454",
   "metadata": {},
   "source": [
    "### Question_3:\n",
    "    Find column wise average ?"
   ]
  },
  {
   "cell_type": "code",
   "execution_count": 109,
   "id": "edf27578",
   "metadata": {},
   "outputs": [
    {
     "data": {
      "text/plain": [
       "array([ 1.31244808,  1.02032036,  0.34602787, 23.12343631,  9.98937025,\n",
       "        4.99318096,  6.63422915,  9.950615  ])"
      ]
     },
     "execution_count": 109,
     "metadata": {},
     "output_type": "execute_result"
    }
   ],
   "source": [
    "np.mean(b,axis = 0)"
   ]
  },
  {
   "cell_type": "markdown",
   "id": "bcff7375",
   "metadata": {},
   "source": [
    "### Question_4:\n",
    "    Find out all the Age whose height is >  0.4 ?"
   ]
  },
  {
   "cell_type": "code",
   "execution_count": 7,
   "id": "e15ac163",
   "metadata": {},
   "outputs": [
    {
     "data": {
      "text/plain": [
       "array([11., 14., 13., ..., 11., 11., 11.])"
      ]
     },
     "execution_count": 7,
     "metadata": {},
     "output_type": "execute_result"
    }
   ],
   "source": [
    "b[b[:,2]>0.4,7]"
   ]
  },
  {
   "cell_type": "markdown",
   "id": "0edbbb1c",
   "metadata": {},
   "source": [
    "### Question_5:\n",
    "    What is the average height and weight of the persons whose age is 10 ?"
   ]
  },
  {
   "cell_type": "code",
   "execution_count": 8,
   "id": "e7af4ac2",
   "metadata": {},
   "outputs": [
    {
     "name": "stdout",
     "output_type": "stream",
     "text": [
      "The average height of the persons whose age is 10 is :  0.3833672856539947\n",
      "The average weight of the persons whose age is 10 is :  28.243308450511314\n"
     ]
    }
   ],
   "source": [
    "print(f\"The average height of the persons whose age is 10 is :  {np.mean(b[b[:,7] == 10,2])}\")\n",
    "print(f\"The average weight of the persons whose age is 10 is :  {np.mean(b[b[:,7] == 10,3])}\")"
   ]
  },
  {
   "cell_type": "markdown",
   "id": "22aa43be",
   "metadata": {},
   "source": [
    "### Question_6:\n",
    "    What is the total shell weight ?"
   ]
  },
  {
   "cell_type": "code",
   "execution_count": 242,
   "id": "0a8ddcd7",
   "metadata": {},
   "outputs": [
    {
     "name": "stdout",
     "output_type": "stream",
     "text": [
      "The total Shell Weight is :  1326845.8295212665\n"
     ]
    }
   ],
   "source": [
    "print(f\"The total Shell Weight is :  {sum(b[:,6])}\")"
   ]
  },
  {
   "cell_type": "markdown",
   "id": "c4631010",
   "metadata": {},
   "source": [
    "### Question_7:\n",
    "    How many Persons belongs to each and every unique age ?"
   ]
  },
  {
   "cell_type": "code",
   "execution_count": 10,
   "id": "04431897",
   "metadata": {},
   "outputs": [
    {
     "data": {
      "text/plain": [
       "(array([ 1.,  2.,  3.,  4.,  5.,  6.,  7.,  8.,  9., 10., 11., 12., 13.,\n",
       "        14., 15., 16., 17., 18., 19., 20., 21., 22., 23., 24., 25., 26.,\n",
       "        27., 29.]),\n",
       " array([   46,    42,   625,  2787,  5475, 12450, 18276, 26818, 32906,\n",
       "        30803, 23457, 12717, 10037,  6352,  4831,  3191,  2705,  1953,\n",
       "         1591,  1206,   721,   296,   352,   110,    51,    46,    99,\n",
       "           57], dtype=int64))"
      ]
     },
     "execution_count": 10,
     "metadata": {},
     "output_type": "execute_result"
    }
   ],
   "source": [
    "np.unique((b[:,7]),return_counts = True)"
   ]
  },
  {
   "cell_type": "code",
   "execution_count": 245,
   "id": "9b9c4019",
   "metadata": {},
   "outputs": [
    {
     "name": "stdout",
     "output_type": "stream",
     "text": [
      "Number of persons of age 1.0 are 46\n",
      "Number of persons of age 2.0 are 42\n",
      "Number of persons of age 3.0 are 625\n",
      "Number of persons of age 4.0 are 2787\n",
      "Number of persons of age 5.0 are 5475\n",
      "Number of persons of age 6.0 are 12450\n",
      "Number of persons of age 7.0 are 18276\n",
      "Number of persons of age 8.0 are 26818\n",
      "Number of persons of age 9.0 are 32906\n",
      "Number of persons of age 10.0 are 30803\n",
      "Number of persons of age 11.0 are 23457\n",
      "Number of persons of age 12.0 are 12717\n",
      "Number of persons of age 13.0 are 10037\n",
      "Number of persons of age 14.0 are 6352\n",
      "Number of persons of age 15.0 are 4831\n",
      "Number of persons of age 16.0 are 3191\n",
      "Number of persons of age 17.0 are 2705\n",
      "Number of persons of age 18.0 are 1953\n",
      "Number of persons of age 19.0 are 1591\n",
      "Number of persons of age 20.0 are 1206\n",
      "Number of persons of age 21.0 are 721\n",
      "Number of persons of age 22.0 are 296\n",
      "Number of persons of age 23.0 are 352\n",
      "Number of persons of age 24.0 are 110\n",
      "Number of persons of age 25.0 are 51\n",
      "Number of persons of age 26.0 are 46\n",
      "Number of persons of age 27.0 are 99\n",
      "Number of persons of age 29.0 are 57\n"
     ]
    }
   ],
   "source": [
    "x = np.unique((b[:,7]),return_counts = True)[0]\n",
    "y = np.unique((b[:,7]),return_counts = True)[1]\n",
    "\n",
    "\n",
    "for i in range(min(len(x), len(y))):\n",
    "    print(f\"Number of persons of age {x[i]} are {y[i]}\")\n",
    "\n"
   ]
  },
  {
   "cell_type": "markdown",
   "id": "dcc1d618",
   "metadata": {},
   "source": [
    "### Question_8:\n",
    "    What is the difference between shucked weight and viscera weight ?"
   ]
  },
  {
   "cell_type": "code",
   "execution_count": 12,
   "id": "73f4035a",
   "metadata": {},
   "outputs": [
    {
     "data": {
      "text/plain": [
       "array([5.9817445, 3.855532 , 4.1106775, ..., 2.9199985, 5.329706 ,\n",
       "       9.8372765])"
      ]
     },
     "execution_count": 12,
     "metadata": {},
     "output_type": "execute_result"
    }
   ],
   "source": [
    "b[:,4] - b[:,5]"
   ]
  },
  {
   "cell_type": "markdown",
   "id": "b917137f",
   "metadata": {},
   "source": [
    "### Question_9:\n",
    "    What is the average height of the persons whose age is between 14 & 19. ?"
   ]
  },
  {
   "cell_type": "code",
   "execution_count": 49,
   "id": "7bdb94c8",
   "metadata": {},
   "outputs": [
    {
     "data": {
      "text/plain": [
       "0.103115"
      ]
     },
     "execution_count": 49,
     "metadata": {},
     "output_type": "execute_result"
    }
   ],
   "source": [
    "np.mean((b[:,7]>=14) & (b[:,7]<=19))"
   ]
  },
  {
   "cell_type": "markdown",
   "id": "6c88bfc4",
   "metadata": {},
   "source": [
    "### Question_10:\n",
    "    What is the average weight if we include Shucked weight, Viscera weight and Shell weight ? "
   ]
  },
  {
   "cell_type": "code",
   "execution_count": 83,
   "id": "117be197",
   "metadata": {},
   "outputs": [
    {
     "data": {
      "text/plain": [
       "21.616780352404746"
      ]
     },
     "execution_count": 83,
     "metadata": {},
     "output_type": "execute_result"
    }
   ],
   "source": [
    "np.mean(b[:,4] + b[:,5] + b[:,6])"
   ]
  }
 ],
 "metadata": {
  "kernelspec": {
   "display_name": "Python 3 (ipykernel)",
   "language": "python",
   "name": "python3"
  },
  "language_info": {
   "codemirror_mode": {
    "name": "ipython",
    "version": 3
   },
   "file_extension": ".py",
   "mimetype": "text/x-python",
   "name": "python",
   "nbconvert_exporter": "python",
   "pygments_lexer": "ipython3",
   "version": "3.11.4"
  }
 },
 "nbformat": 4,
 "nbformat_minor": 5
}
